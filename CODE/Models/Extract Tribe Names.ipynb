{
 "cells": [
  {
   "cell_type": "code",
   "execution_count": 2,
   "metadata": {},
   "outputs": [],
   "source": [
    "import re"
   ]
  },
  {
   "cell_type": "code",
   "execution_count": 3,
   "metadata": {},
   "outputs": [],
   "source": [
    "big_list = '1 Abayon -Cross River 2 Abua (Odual) -Rivers 3 Achipa (Achipawa) -Kebbi 4 Adim -Cross River 5 Adun -Cross River 6 Affade -Yobe 7 Afizere -Plateau 8 Afo -Plateau 9 Agbo -Cross River 10 Akaju-Ndem (Akajuk) -Cross River 11 Akweya-Yachi -Benue 12 Alago (Arago) -Piateau 13 Amo -Plateau 14 Anaguta -Plateau 15 Anang -Akwa lbom 16 Andoni -Akwa lbom, Rivers 17 Angas -Bauchi, Jigawa, Plateau 18 Ankwei -Plateau 19 Anyima -Cross River 20 Attakar (ataka) -Kaduna 21 Auyoka (Auyokawa) -Jigawa 22 Awori -Lagos, Ogun 23 Ayu -Kaduna 24 Babur -Adamawa, Bomo, Taraba, Yobe 25 Bachama -Adamawa 26 Bachere -Cross River 27 Bada -Plateau 28 Bade -Yobe 29 Bahumono -Cross River 30 Bakulung -Taraba 31 Bali -Taraba 32 Bambora (Bambarawa) -Bauchi 33 Bambuko -Taraba 34 Banda (Bandawa) -Taraba 35 Banka (Bankalawa) -Bauchi 36 Banso (Panso) -Adamawa 37 Bara (Barawa) -Bauchi 38 Barke -Bauchi 39 Baruba (Barba) -Niger 40 Bashiri (Bashirawa) -Plateau 41 Bassa -Kaduna, Kogi, Niger, Plateau 42 Batta -Adamawa 43 Baushi -Niger 44 Baya -Adamawa 45 Bekwarra -Cross River 46 Bele (Buli, Belewa) -Bauchi 47 Betso (Bete) -Taraba 48 Bette -Cross River 49 Bilei -Adamawa 50 Bille -Adamawa 51 Bina (Binawa) -Kaduna 52 Bini -Edo 53 Birom -Plateau 54 Bobua -Taraba 55 Boki (Nki) -Cross River 56 Bkkos -Plateau 57 Boko (Bussawa, Bargawa) -Niger 58 Bole (Bolewa) -Bauchi, Yobe 59 Botlere -Adamawa 60 Boma (Bomawa, Burmano) -Bauchi 61 Bomboro -Bauchi 62 Buduma -Borno, Niger 63 Buji -Plateau 64 Buli -Bauchi 65 Bunu -Kogi 66 Bura -Adamawa 67 Burak -Bauchi 68 Burma (Burmawa) -Plateau 69 Buru -Yobe 70 Buta (Butawa) -Bauchi 71 Bwall -Plateau 72 Bwatiye -Adamawa 73 Bwazza -Adamawa 74 Challa -Plateau 75 Chama (Chamawa Fitilai) -Bauchi 76 Chamba -Taraba 77 Chamo -Bauchi 78 Chibok (Chibbak) -Yobe 79 Chinine -Borno 80 Chip -Plateau 81 Chokobo -Plateau 82 Chukkol -Taraba 83 Daba -Adamawa 84 Dadiya -Bauchi 85 Daka -Adamawa 86 Dakarkari -Niger, Kebbi 87 Danda (Dandawa) -Kebbi 88 Dangsa -Taraba 89 Daza (Dere, Derewa) -Bauchi 90 Degema -Rivers 91 Deno (Denawa) -Bauchi 92 Dghwede -Bomo 93 Diba -Taraba 94 Doemak (Dumuk) -Plateau 95 Ouguri -Bauchi 96 Duka (Dukawa) -Kebbi 97 Duma (Dumawa) -Bauchi 98 Ebana (Ebani) -Rivers 99 Ebirra (lgbirra) -Edo, Kogi, Ondo 100 Ebu -Edo, Kogi 101 Efik -Cross River 102 Egbema -Rivers 103 Egede (lgedde) -Benue 104 Eggon -Plateau 105 Egun (Gu) -Lagos,Ogun 106 Ejagham -Cross River 107 Ekajuk -Cross River 108 Eket -Akwa Ibom 109 Ekoi -Cross River 110 Engenni (Ngene) -Rivers 111 Epie -Rivers 112 Esan (Ishan) -Edo 113 Etche -Rivers 114 Etolu (Etilo) -Benue 115 Etsako -Edo 116 Etung -Cross River 117 Etuno -Edo 118 Palli -Adamawa 119 Pulani (Pulbe) -Bauchi, Borno, Jigawa , Kaduna, Kano, Katsina, Kebbi , Niger, Sokoto, Taraba, Yobe, etc. 120 Fyam (Fyem) -Plateau 121 Fyer(Fer) -Plateau 122 Ga’anda -Adamawa 123 Gade -Niger 124 Galambi -Bauchi 125 Gamergu-Mulgwa -Borno 126 Qanawuri -Plateau 127 Gavako -Borno 128 Gbedde -Kogi 129 Gengle -Taraba 130 Geji -Bauchi 131 Gera (Gere, Gerawa) -Bauchi 132 Geruma (Gerumawa) -Plateau 133 Geruma (Gerumawa) -Bauchi 134 Gingwak -Bauchi 135 Gira -Adamawa 136 Gizigz -Adamawa 137 Goernai -Plateau 138 Gokana (Kana) -Rivers 139 Gombi -Adamawa 140 Gornun (Gmun) -Taraba 141 Gonia -Taraba 142 Gubi (Gubawa) -Bauchi 143 Gude -Adamawa 144 Gudu -Adamawa 145 Gure -Kaduna 146 Gurmana -Niger 147 Gururntum -Bauchi 148 Gusu -Plateau 149 Gwa (Gurawa) -Adamawa 150 Gwamba Adamawa 151 Gwandara -Kaduna, Niger, Plateau 152 Gwari (Gbari) -Kaduna, Niger, Abuja, Plateau 153 Gwom -Taraba 154 Gwoza (Waha) -Borno 155 Gyem -Bauchi 156 Hausa: -Bauchi, Borno, Jigawa, Kaduna,Kano, Kastina, Kebbi, Niger,Taraba, Sokoto, Zamfara etc 157 Higi (Hig) -Borno, Adamawa 158 Holma -Adamawa 159 Hona -Adamawa 160 Ibeno -Akwa lbom 161 Ibibio -Akwa lbom 162 Ichen -Adamawa 163 Idoma -Benue, Taraba 164 Igalla -Kogi 165 lgbo: -Abia, Anambra, Benue, Delta, Ebonyi,Enugu, Imo, Rivers 166 ljumu -Kogi 167 Ikorn -Cross River 168 Irigwe -Plateau 169 Isoko -Delta 170 lsekiri (Itsekiri) -Delta 171 lyala (lyalla) -Cross River 172 lzondjo -Bayelsa, Delta, Ondo, Rivers 173 Jaba -Kaduna 174 Jahuna (Jahunawa) -Taraba 175 Jaku -Bauchi 176 Jara (Jaar Jarawa Jarawa-Dutse) -Bauchi 177 Jere (Jare, Jera, Jera, Jerawa) -Bauchi, Plateau 178 Jero -Taraba 179 Jibu -Adamawa 180 Jidda-Abu -Plateau 181 Jimbin (Jimbinawa) -Bauchi 182 Jirai -Adamawa 183 Jonjo (Jenjo) -Taraba 184 Jukun -Bauchi, Benue,Taraba, Plateau 185 Kaba(Kabawa) -Taraba 186 Kadara -Taraba 187 Kafanchan -Kaduna 188 Kagoro -Kaduna 189 Kaje (Kache) -Kaduna 190 Kajuru (Kajurawa) -Kaduna 191 Kaka -Adamawa 192 Kamaku (Karnukawa) -Kaduna, Kebbi, Niger 193 Kambari -Kebbi, Niger 194 Kambu -Adamawa 195 Kamo -Bauchi 196 Kanakuru (Dera) -Adamawa, Borno 197 Kanembu -Borno 198 Kanikon -Kaduna 199 Kantana -Plateau 200 Kanuri -Kaduna, Adamawa, Borno, Kano,Niger, Jigawa, Plateau, Taraba, Yobe 201 Karekare (Karaikarai) -Bauchi, Yobe 202 Karimjo -Taraba 203 Kariya -Bauchi 204 Katab (Kataf) -Kaduna 205 Kenern (Koenoem) -Plateau 206 Kenton -Taraba 207 Kiballo (Kiwollo) -Kaduna 208 Kilba -Adamawa 209 Kirfi (Kirfawa) -Bauchi 210 Koma -Taraba 211 Kona -Taraba 212 Koro (Kwaro) -Kaduna, Niger 213 Kubi (Kubawa) -Bauchi 214 Kudachano (Kudawa) -Bauchi 215 Kugama -Taraba 216 Kulere (Kaler) -Plateau 217 Kunini -Taraba 218 Kurama -Jigawa, Kaduna, Niger, Plateau 219 Kurdul -Adamawa 220 Kushi -Bauchi 221 Kuteb -Taraba 222 Kutin -Taraba 223 Kwalla -Plateau 224 Kwami (Kwom) -Bauchi 225 Kwanchi -Taraba 226 Kwanka (Kwankwa) -Bauchi, Plateau 227 Kwaro -Plateau 228 Kwato -Plateau 229 Kyenga (Kengawa) -Sokoto 230 Laaru (Larawa) -Niger 231 Lakka -Adamawa 232 Lala -Adamawa 233 Lama -Taraba 234 Lamja -Taraba 235 Lau -Taraba 236 Ubbo -Adamawa 237 Limono -Bauchi, Plateau 238 Lopa (Lupa, Lopawa) -Niger 239 Longuda (Lunguda) -Adamawa, Bauchi 240 Mabo -Plateau 241 Mada -Kaduna, Plateau 242 Mama -Plateau 243 Mambilla -Adamawa 244 Manchok -Kaduna 245 Mandara (Wandala) -Borno 246 Manga (Mangawa) -Yobe 247 Margi (Marghi) -Adamawa, Borno 248 Matakarn -Adamawa 249 Mbembe -Cross River, Enugu 250 Mbol -Adamawa 251 Mbube -Cross River 252 Mbula -Adamawa 253 Mbum -Taraba 254 Memyang (Meryan) -Plateau 255 Miango -Plateau 256 Miligili (Migili) -Plateau 257 Miya (Miyawa) -Bauchi 258 Mobber -Borno 259 Montol -Plateau 260 Moruwa (Moro’a, Morwa) -Kaduna 261 Muchaila -Adamawa 262 Mumuye -Taraba 263 Mundang -Adamawa 264 Munga (Mupang) -Plateau 265 Mushere -Plateau 266 Mwahavul (Mwaghavul) -Plateau 267 Ndoro -Taraba 268 Ngamo -Bauchi, Yobe 269 Ngizim -Yobe 270 Ngweshe (Ndhang.Ngoshe-Ndhang) -Adamawa, Borno 271 Ningi (Ningawa) -Bauchi 272 Ninzam (Ninzo) -Kaduna, Plateau 273 Njayi -Adamawa 274 Nkim -Cross River 275 Nkum -Cross River 276 Nokere (Nakere) -Plateau 277 Nunku -Kaduna, Plateau 278 Nupe -Niger 279 Nyandang -Taraba 280 Ododop Cross River 281 Ogori -Kwara 282 Okobo (Okkobor) -Akwa lbom 283 Okpamheri -Edo 284 Olulumo -Cross River 285 Oron -Akwa lbom 286 Owan -Edo 287 Owe -Kwara 288 Oworo -Kwara 289 Pa’a (Pa’awa Afawa) -Bauchi 290 Pai -Plateau 291 Panyam -Taraba 292 Pero -Bauchi 293 Pire -Adamawa 294 Pkanzom -Taraba 295 Poll -Taraba 296 Polchi Habe -Bauchi 297 Pongo (Pongu) -Niger 298 Potopo -Taraba 299 Pyapun (Piapung) -Plateau 300 Qua -Cross River 301 Rebina (Rebinawa) -Bauchi 302 Reshe -Kebbi, Niger 303 Rindire (Rendre) -Plateau 304 Rishuwa -Kaduna 305 Ron -Plateau 306 Rubu -Niger 307 Rukuba -Plateau 308 Rumada -Kaduna 309 Rumaya -Kaduna 310 Sakbe -Taraba 311 Sanga -Bauchi 312 Sate -Taraba 313 Saya (Sayawa Za’ar) -Bauchi 314 Segidi (Sigidawa) -Bauchi 315 Shanga (Shangawa) -Sokoto 316 Shangawa (Shangau) -Plateau 317 Shan-Shan -Plateau 318 Shira (Shirawa) -Kano 319 Shomo -Taraba 320 Shuwa -Adamawa, Borno 321 Sikdi -Plateau 322 Siri (Sirawa) -Bauchi 323 Srubu (Surubu) -Kaduna 324 Sukur -Adamawa 325 Sura -Plateau 326 Tangale -Bauchi 327 Tarok -Plateau, Taraba 328 Teme -Adamawa 329 Tera (Terawa) -Bauchi, Bomo 330 Teshena (Teshenawa) -Kano 331 Tigon -Adamawa 332 Tikar -Taraba 333 Tiv -Benue, Plateau, Taraba and Nasarawa 334 Tula -Bauchi 335 Tur -Adamawa 336 Ufia -Benue 337 Ukelle -Cross River 338 Ukwani (Kwale) -Delta 339 Uncinda -Kaduna, Kebbi, Niger, Sokoto 340 Uneme (Ineme) -Edo 341 Ura (Ula) -Niger 342 Urhobo -Delta 343 Utonkong -Benue 344 Uyanga -Cross River 345 Vemgo -Adamawa 346 Verre -Adamawa 347 Vommi -Taraba 348 Wagga -Adamawa 349 Waja -Bauchi 350 Waka -Taraba 351 Warja (Warja) -Jigawa 352 Warji -Bauchi 353 Wula -Adamawa 354 Wurbo -Adamawa 355 Wurkun -Taraba 356 Yache -Cross River 357 Yagba -Kwara 358 Yakurr (Yako) -Cross River 359 Yalla -Benue 360 Yandang -Taraba 361 Yergan (Yergum) -Plateau 362 Yoruba -(Kwara, Lagos, Ogun, Ondo, Oyo, Osun, Ekiti, Kogi) 363 Yott -Taraba 364 Yumu -Niger 365 Yungur -Adamawa 366 Yuom -Plateau 367 Zabara -Niger 368 Zaranda -Bauchi 369 Zarma (Zarmawa) -Kebbi 370 Zayam (Zeam) -Bauchi 371 Zul (Zulawa) –Bauchi'"
   ]
  },
  {
   "cell_type": "code",
   "execution_count": 4,
   "metadata": {},
   "outputs": [],
   "source": [
    "names = re.split('[0-9]+', big_list)"
   ]
  },
  {
   "cell_type": "code",
   "execution_count": 9,
   "metadata": {},
   "outputs": [],
   "source": [
    "with open('tribe-list.txt', 'wt') as outf:\n",
    "    for name in names:\n",
    "        name = name.strip()\n",
    "        if len(name) <=1:\n",
    "            continue\n",
    "        name = name.split('-')[0].split('(')[0]\n",
    "        outf.write(name + '\\n')"
   ]
  }
 ],
 "metadata": {
  "kernelspec": {
   "display_name": "Python 3",
   "language": "python",
   "name": "python3"
  },
  "language_info": {
   "codemirror_mode": {
    "name": "ipython",
    "version": 3
   },
   "file_extension": ".py",
   "mimetype": "text/x-python",
   "name": "python",
   "nbconvert_exporter": "python",
   "pygments_lexer": "ipython3",
   "version": "3.7.1"
  }
 },
 "nbformat": 4,
 "nbformat_minor": 2
}
